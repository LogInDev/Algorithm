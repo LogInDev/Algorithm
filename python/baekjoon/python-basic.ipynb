{
 "cells": [
  {
   "cell_type": "markdown",
   "metadata": {},
   "source": [
    "# 자료형"
   ]
  },
  {
   "cell_type": "markdown",
   "metadata": {},
   "source": [
    "## 정수형\n",
    "- 정수형(Integer)은 정수를 다루는 자료형\n",
    "    - 양의 정수, 음의 정수, 0"
   ]
  },
  {
   "cell_type": "code",
   "execution_count": 1,
   "metadata": {},
   "outputs": [
    {
     "name": "stdout",
     "output_type": "stream",
     "text": [
      "1000\n",
      "-7\n",
      "0\n"
     ]
    }
   ],
   "source": [
    "# 양의 정수\n",
    "a = 1000\n",
    "print(a)\n",
    "\n",
    "# 음의 정수\n",
    "a = -7\n",
    "print(a)\n",
    "\n",
    "# 0\n",
    "a = 0\n",
    "print(a)"
   ]
  },
  {
   "cell_type": "markdown",
   "metadata": {},
   "source": [
    "## 실수형\n",
    "- 실수형(Real Number)은 소수점 아래의 데이터를 포함하는 수 자료형이다.\n",
    "    - 파이썬에서는 변수에 소수점을 붙인 수를 대입하면 실수형 변수로 처리된다.\n",
    "    - 소수부가 0이거나, 정수부가 0인 소수는 0을 생략하고 작성할 수 있다."
   ]
  },
  {
   "cell_type": "code",
   "execution_count": 2,
   "metadata": {},
   "outputs": [
    {
     "name": "stdout",
     "output_type": "stream",
     "text": [
      "157.93\n",
      "-1837.2\n",
      "5.0\n",
      "-0.7\n"
     ]
    }
   ],
   "source": [
    "# 양의 실수\n",
    "a = 157.93\n",
    "print(a)\n",
    "\n",
    "# 음의 실수\n",
    "a = -1837.2\n",
    "print(a)\n",
    "\n",
    "# 소수부가 0일 때 0을 생략\n",
    "a = 5.\n",
    "print(a)\n",
    "\n",
    "# 정수부가 0일 때 0을 생략\n",
    "a = -.7\n",
    "print(a)"
   ]
  },
  {
   "cell_type": "markdown",
   "metadata": {},
   "source": [
    "### 실수형 더 알아보기\n",
    "- 오늘날 가장 널리 쓰이는 `IEEE754` 표준에서는 실수형을 저장하기 위해 4바이트, 혹은 8바이트의 고정된 크기의 메모리를 할당하므로, <br> **컴퓨터 시스템은 실수 정보를 표현하는 정확도에 한계를 가진다.**\n",
    "- 예를 들어 10진수 체계에서는 0.3과 0.6을 더한 값이 0.9로 정확히 떨어진다.\n",
    "    - 하지만 2진수에서는 0.9를 정확히 표현할 수 있는 방법이 없다.\n",
    "    - 컴퓨터는 최대한 0.9와 가깝게 표현하지만, 미세한 오차가 발생하게 된다."
   ]
  },
  {
   "cell_type": "code",
   "execution_count": 4,
   "metadata": {},
   "outputs": [
    {
     "name": "stdout",
     "output_type": "stream",
     "text": [
      "0.8999999999999999\n",
      "False\n"
     ]
    }
   ],
   "source": [
    "a = 0.3 + 0.6\n",
    "print(a)\n",
    "\n",
    "if a == 0.9:\n",
    "    print(True)\n",
    "else:\n",
    "    print(False)"
   ]
  },
  {
   "cell_type": "markdown",
   "metadata": {},
   "source": [
    "- 개발 과정에서 실수 값을 제대로 비교하지 못해서 원하는 결과를 얻지 못할 수도 있다.\n",
    "- 이러 때는 `round()` 함수를 이용할 수 있으며, 이러한 방법이 권장된다.\n",
    "- 예를 들어 123.456을 소수 셋째 자리에서 반올림하려면 `round(123.456, 2)`라고 작성한다. ⇒ 123.46 출력"
   ]
  },
  {
   "cell_type": "code",
   "execution_count": 5,
   "metadata": {},
   "outputs": [
    {
     "name": "stdout",
     "output_type": "stream",
     "text": [
      "0.8999999999999999\n",
      "True\n"
     ]
    }
   ],
   "source": [
    "a = 0.3 + 0.6\n",
    "print(a)\n",
    "\n",
    "if round(a, 4) == 0.9:\n",
    "    print(True)\n",
    "else:\n",
    "    print(False)"
   ]
  },
  {
   "cell_type": "markdown",
   "metadata": {},
   "source": [
    "## 지수 표현 방식\n",
    "- 파이썬에서는 `e`나 `E`를 이용한 지수 표현 방식을 이용할 수 있다.\n",
    "    - `e`나 `E` 다음에 오는 수는 10의 지수부를 의미한다.\n",
    "    - 예를 들어 `1e9`라고 입력하게 되면, 10의 9제곱(1,000,000,000)이 된다.\n",
    "- 지수 표현 방식은 임의의 큰 수를 표현하기 위해 자주 사용된다.\n",
    "- 최단 경로 알고리즘에서는 도달할 수 없는 노드에 대하여 최단 거리를 **무한(INF)** 로 설정하곤 한다.\n",
    "- 이때 가능한 최댓값이 10억 미만이라면 무한(INF)의 값으로 `1e9`를 이용할 수 있다."
   ]
  },
  {
   "cell_type": "code",
   "execution_count": 3,
   "metadata": {},
   "outputs": [
    {
     "name": "stdout",
     "output_type": "stream",
     "text": [
      "1000000000.0\n",
      "752.5\n",
      "3.954\n"
     ]
    }
   ],
   "source": [
    "# 1,000,000,000의 지수 표현 방식\n",
    "a = 1e9\n",
    "print(a)\n",
    "\n",
    "#752.5\n",
    "a = 75.25e1\n",
    "print(a)\n",
    "\n",
    "#3.954\n",
    "a = 3954e-3\n",
    "print(a)"
   ]
  },
  {
   "cell_type": "markdown",
   "metadata": {},
   "source": [
    "## 수 자료형의 연산\n",
    "- 수 자료형에 대하여 사칙연산과 나머지 연산자가 많이 사용된다.\n",
    "- 단 나누기 연산자(`/`)를 주의해서 사용해야한다.\n",
    "    - 파이썬에서 나누기 연산자(`/`)는 나눠진 결과를 실수형으로 반환한다.\n",
    "- 다양한 로직을 설계할 때 나머지 연산자(`%`)를 이용해야 할 때가 많다.\n",
    "- 파이썬에서는 몫을 얻기 위해 몫 연산자(`//`)를 사용한다.\n",
    "- 이외에도 거듭 제곱 연산자(`**`)를 비롯해 다양한 연산자들이 존재한다."
   ]
  },
  {
   "cell_type": "code",
   "execution_count": 6,
   "metadata": {},
   "outputs": [
    {
     "name": "stdout",
     "output_type": "stream",
     "text": [
      "2.3333333333333335\n",
      "1\n",
      "2\n",
      "343\n",
      "2.6457513110645907\n"
     ]
    }
   ],
   "source": [
    "a = 7\n",
    "b = 3\n",
    "\n",
    "# 나누기\n",
    "print(a / b)\n",
    "\n",
    "# 나머지\n",
    "print(a % b)\n",
    "\n",
    "# 몫\n",
    "print(a // b)\n",
    "\n",
    "# 거듭 제곱\n",
    "print(a ** b)\n",
    "\n",
    "# 제곱근\n",
    "print(a ** 0.5)"
   ]
  },
  {
   "cell_type": "markdown",
   "metadata": {},
   "source": [
    "## 리스트 자료형\n",
    "- 여러 개의 데이터를 연속적으로 담아 처리하기 위해 사용하는 자료형이다.\n",
    "    - 사용자 입장에서 자바의 배열(Array)의 기능 및 연결 리스트(ArrayList)와 유사한 기능을 지원한다.\n",
    "    - 리스트 대신에 배열 혹은 테이블이라고 부르기도 한다.\n",
    "    <br>\n",
    "    \n",
    "        |7|1|5|3|2|6|7|5|\n",
    "        |--|--|--|--|--|--|--|--|\n",
    "\n",
    "- 리스트는 대괄호(`[]`) 안에 원소를 넣어 초기화하며, 쉼표(`,`)로 원소를 구분한다.\n",
    "- 비어 있는 리스트를 선언하고자 할 때는 list()혹은 간단히 `[]`를 이용할 수 있다.\n",
    "- 리스트의 원소에 접근할 때는 인덱스(Index) 값을 괄호에 넣는다.\n",
    "    - 인덱스는 0부터 시작한다."
   ]
  },
  {
   "cell_type": "code",
   "execution_count": 10,
   "metadata": {},
   "outputs": [
    {
     "name": "stdout",
     "output_type": "stream",
     "text": [
      "[1, 2, 3, 4, 5, 6, 7, 8, 9]\n",
      "4\n",
      "[0, 0, 0, 0, 0, 0, 0, 0, 0, 0]\n",
      "[7, 3, 2, 5, 9]\n",
      "[7, 3, 2, 5, 4]\n"
     ]
    }
   ],
   "source": [
    "# 직접 데이터를 넣어 초기화\n",
    "a = [1, 2, 3, 4, 5, 6, 7, 8, 9]\n",
    "print(a)\n",
    "\n",
    "# 네 번째 원소만 출력\n",
    "print(a[3])\n",
    "\n",
    "# 크기가 N이고, 모든 값이 0인 1차원 리스트 초기화\n",
    "n = 10\n",
    "a = [0] * n\n",
    "print(a)\n",
    "\n",
    "# 특정 인덱스 값 바꾸기\n",
    "a = [7, 3, 2, 5, 9]\n",
    "#    0  1  2  3  4\n",
    "print(a)\n",
    "\n",
    "a[4] = 4\n",
    "print(a)"
   ]
  },
  {
   "cell_type": "markdown",
   "metadata": {},
   "source": [
    "### 리스트의 인덱싱과 슬라이싱\n",
    "- 인덱스 값을 입력하여 리스트의 특정한 원소에 접근하는 것을 인덱싱(Indexing)이라고 한다.\n",
    "    - 파이썬의 인덱스 값은 양의 정수와 음의 정수를 모두 사용할 수 있다.\n",
    "    - 음의 정수를 넣으면 원소를 거꾸로 탐색하게 된다."
   ]
  },
  {
   "cell_type": "code",
   "execution_count": 11,
   "metadata": {},
   "outputs": [
    {
     "name": "stdout",
     "output_type": "stream",
     "text": [
      "8\n",
      "9\n",
      "7\n",
      "[1, 2, 3, 7, 5, 6, 7, 8, 9]\n"
     ]
    }
   ],
   "source": [
    "a = [1, 2, 3, 4, 5, 6, 7, 8, 9]\n",
    "\n",
    "# 여덟 번째 원소만 출력\n",
    "print(a[7])\n",
    "\n",
    "# 뒤에서 첫 번째 원소 출력\n",
    "print(a[-1])\n",
    "\n",
    "# 뒤에서 세 번째 원소 출력\n",
    "print(a[-3])\n",
    "\n",
    "# 네 번째 원소 값 변경\n",
    "a[3] = 7\n",
    "print(a)"
   ]
  },
  {
   "cell_type": "markdown",
   "metadata": {},
   "source": [
    "- 리스트에서 연속적인 위치를 갖는 원소들을 가져와야 할 때는 슬라이싱(Slicing)을 이용한다.\n",
    "    - 대괄호 안에 콜론(`:`)을 넣어서 **시작 인덱스** 와 **끝 인덱스** 를 설정할 수 있다.\n",
    "    - **끝 인덱스는 실제 인덱스보다 1을 더 크게 설정한다.**"
   ]
  },
  {
   "cell_type": "code",
   "execution_count": 12,
   "metadata": {},
   "outputs": [
    {
     "name": "stdout",
     "output_type": "stream",
     "text": [
      "4\n",
      "[2, 3, 4]\n"
     ]
    }
   ],
   "source": [
    "a = [1, 2, 3, 4, 5, 6, 7, 8, 9]\n",
    "\n",
    "# 네 번째 원소만 출력\n",
    "print(a[3])\n",
    "\n",
    "# 두 번째 원소부터 네 번째 원소까지\n",
    "print(a[1:4])"
   ]
  },
  {
   "cell_type": "markdown",
   "metadata": {},
   "source": [
    "### 리스트 컴프리헨션\n",
    "- 리스트를 초기화하는 방법 중 하나이다.\n",
    "    - **대괄호 안에 조건문과 반복문을 적용하여 리스트를 초기화 할 수 있다.**"
   ]
  },
  {
   "cell_type": "code",
   "execution_count": 14,
   "metadata": {},
   "outputs": [
    {
     "name": "stdout",
     "output_type": "stream",
     "text": [
      "[0, 1, 2, 3, 4, 5, 6, 7, 8, 9]\n",
      "[1, 3, 5, 7, 9, 11, 13, 15, 17, 19]\n",
      "[1, 4, 9, 16, 25, 36, 49, 64, 81]\n"
     ]
    }
   ],
   "source": [
    "# 0부터 9까지의 수를 포함하는 리스트\n",
    "array = [i for i in range(10)]\n",
    "print(array)\n",
    "\n",
    "# 0부터 19까지의 수 중에서 홀수만 포함하는 리스트\n",
    "array = [i for i in range(20) if i % 2 == 1]\n",
    "print(array)\n",
    "\n",
    "# 1부터 9까지의 수들의 제곱 값을 포함하는 리스트\n",
    "array = [i * i for i in range(1, 10)]\n",
    "print(array)"
   ]
  },
  {
   "cell_type": "markdown",
   "metadata": {},
   "source": [
    "- 리스트 컴프리헨션은 2차원 리스트를 초기화할 때 효과적으로 사용된다.\n",
    "- 특히 N * M 크기의 2차원 리스트를 한 번에 초기화 해야 할 때 매우 유용하다.\n",
    "    - 좋은 예시 : `array = [[0] * m for _ in range(n)]`\n",
    "    - 잘못된 예시 : `array = [[0] * m] * n`\n",
    "    ⇒ 전체 리스트 안에 포함된 각 리스트가 모두 같은 객체로 인식되어 같은 주소값을 가지게 된다. 즉, 하나의 값만 바뀌어도 다 바뀌게 된다."
   ]
  },
  {
   "cell_type": "code",
   "execution_count": 17,
   "metadata": {},
   "outputs": [
    {
     "name": "stdout",
     "output_type": "stream",
     "text": [
      "[[0, 0, 0], [0, 0, 0], [0, 0, 0], [0, 0, 0]]\n",
      "[[0, 0, 0], [0, 5, 0], [0, 0, 0], [0, 0, 0]]\n"
     ]
    }
   ],
   "source": [
    "# 좋은 예시\n",
    "# N X M 크기의 2차원 리스트 초기화\n",
    "n = 4\n",
    "m = 3\n",
    "array = [[0] * m for _ in range(n)]\n",
    "print(array)\n",
    "\n",
    "array[1][1] = 5\n",
    "print(array)"
   ]
  },
  {
   "cell_type": "code",
   "execution_count": 15,
   "metadata": {},
   "outputs": [
    {
     "name": "stdout",
     "output_type": "stream",
     "text": [
      "[[0, 0, 0], [0, 0, 0], [0, 0, 0], [0, 0, 0]]\n",
      "[[0, 5, 0], [0, 5, 0], [0, 5, 0], [0, 5, 0]]\n"
     ]
    }
   ],
   "source": [
    "# 잘못된 예시\n",
    "# N X M 크기의 2차원 리스트 초기화 (잘못된 방법)\n",
    "n = 4\n",
    "m = 3\n",
    "array = [[0] * m] * n\n",
    "print(array)\n",
    "\n",
    "array[1][1] = 5\n",
    "print(array)"
   ]
  },
  {
   "cell_type": "markdown",
   "metadata": {},
   "source": [
    "### 리스트 관련 기타 메서드\n",
    "|함수명|사용법|설명|시간 복잡도|\n",
    "|--|--|--|--|\n",
    "|append()|번수명.append()|리스트에 원소를 하나 삽입할 때 사용. 가장 뒤에 삽입된다.|O(1)|\n",
    "|sort()|변수명.sort()<br>변수명.sort(reverse=True)|기본 정렬 기능으로 오름차순으로 정렬<br>내림차순으로 정렬|O(NlogN)|\n",
    "|reverse()|변수명.reverse()|리스트의 원소의 순서를 모두 뒤집어 놓는다.|O(N)|\n",
    "|insert()|insert(삽입할 위치 인덱스, 삽입할 값)|특정한 인덱스 위치에 원소를 삽입할 때 사용|O(N)|\n",
    "|count()|변수명.count(특정값)|리스트에서 특정한 값을 가지는 데이터의 개수를 셀 때 사용|O(N)|\n",
    "|remove()|변수명.remove(특정값)|특정한 값을 갖는 원소를 제거하는데, 값을 가진 원소가 여러 개면 하나만 제거한다.|O(N)|"
   ]
  },
  {
   "cell_type": "code",
   "execution_count": 21,
   "metadata": {},
   "outputs": [
    {
     "name": "stdout",
     "output_type": "stream",
     "text": [
      "기본 리스트 :  [1, 4, 3]\n",
      "삽입 :  [1, 4, 3, 2]\n",
      "오름차순 정렬 :  [1, 2, 3, 4]\n",
      "내림차순 정렬 :  [4, 3, 2, 1]\n",
      "원소 뒤집기 :  [1, 2, 3, 4]\n",
      "인덱스 2에 3 추가 :  [1, 2, 3, 3, 4]\n",
      "값이 3인 데이터 개수 :  2\n"
     ]
    }
   ],
   "source": [
    "a = [1, 4, 3]\n",
    "print(\"기본 리스트 : \", a)\n",
    "\n",
    "# 리스트에 원소 삽입\n",
    "a.append(2)\n",
    "print(\"삽입 : \", a)\n",
    "\n",
    "# 오름차순 정렬\n",
    "a.sort()\n",
    "print(\"오름차순 정렬 : \", a)\n",
    "\n",
    "# 내림차순 정렬\n",
    "a.sort(reverse = True)\n",
    "print(\"내림차순 정렬 : \", a)\n",
    "\n",
    "# 리스트 원소 뒤집기\n",
    "a.reverse()\n",
    "print(\"원소 뒤집기 : \", a)\n",
    "\n",
    "# 특정 인덱스에 데이터 추가\n",
    "a.insert(2, 3)\n",
    "print(\"인덱스 2에 3 추가 : \", a)\n",
    "             \n",
    "# 특정 값인 데이터 개수 세기\n",
    "print(\"값이 3인 데이터 개수 : \", a.count(3))"
   ]
  },
  {
   "cell_type": "code",
   "execution_count": 22,
   "metadata": {},
   "outputs": [
    {
     "name": "stdout",
     "output_type": "stream",
     "text": [
      "원본 리스트 :  [1, 2, 3, 4, 5, 5, 5]\n",
      "값이 1인 데이터 삭제 :  [2, 3, 4, 5, 5, 5]\n",
      "[2, 4]\n"
     ]
    }
   ],
   "source": [
    "a = [1, 2, 3, 4, 5, 5, 5]\n",
    "print(\"원본 리스트 : \", a)\n",
    "# 특정 값 데이터 삭제\n",
    "a.remove(1)\n",
    "print(\"값이 1인 데이터 삭제 : \", a)\n",
    "\n",
    "# 리스트에서 특정 값을 가지는 원소 모두 제거하기\n",
    "remove_set = {3, 5} # 집합 자료형\n",
    "\n",
    "#remove_set에 포함되지 않은 값만을 저장\n",
    "result = [i for i in a if i not in remove_set]\n",
    "print(result)"
   ]
  },
  {
   "cell_type": "markdown",
   "metadata": {},
   "source": [
    "## 언더바(`_`) 사용 예시\n",
    "- 파이썬에서는 반복을 수행하되 반복을 위한 변수의 값을 무시하고자 할 때 언더바(`_`)를 자주 사용한다."
   ]
  },
  {
   "cell_type": "code",
   "execution_count": 19,
   "metadata": {},
   "outputs": [
    {
     "name": "stdout",
     "output_type": "stream",
     "text": [
      "45\n",
      "Hello World\n",
      "Hello World\n",
      "Hello World\n",
      "Hello World\n",
      "Hello World\n"
     ]
    }
   ],
   "source": [
    "# 1부터 9까지의 자연수를 더하기\n",
    "summary = 0\n",
    "for i in range(1, 10):\n",
    "    summary += i\n",
    "print(summary)\n",
    "\n",
    "# \"Hello World\"를 5번 출력하기\n",
    "for _ in range(5):\n",
    "    print(\"Hello World\")"
   ]
  },
  {
   "cell_type": "markdown",
   "metadata": {},
   "source": [
    "## 문자열 자료형\n",
    "- 문자열 변수를 초기화할 때는 큰따옴표(`\"`)나 작은 따옴표(`'`)를 이용한다.\n",
    "- 문자열 안에 큰따옴표나 작은 따옴표가 포함되어야 하는 경우가 있다.\n",
    "    - 전체 문자열을 큰따옴표로 구성하는 경우, 내부적으로 작은 따옴표를 포함할 수 있다.\n",
    "    - 전체 문자열을 작은따옴표로 구성하는 경우, 내부적으로 큰따옴표를 포함할 수 있다.\n",
    "    - 혹은 백슬래시(`\\`)를 사용하면, 큰따옴표나 작은 따옴표를 원하는 만큼 포함시킬 수 있다."
   ]
  },
  {
   "cell_type": "code",
   "execution_count": 23,
   "metadata": {},
   "outputs": [
    {
     "name": "stdout",
     "output_type": "stream",
     "text": [
      "Hello World\n",
      "Don't you know \"Python\"?\n"
     ]
    }
   ],
   "source": [
    "data = 'Hello World'\n",
    "print(data)\n",
    "\n",
    "data = \"Don't you know \\\"Python\\\"?\"\n",
    "print(data)"
   ]
  },
  {
   "cell_type": "markdown",
   "metadata": {},
   "source": [
    "### 문자열 연산\n",
    "- 문자열 변수에 **덧셈(`+`)** 을 이용하면 **문자열이 더해져서 연결(Concatenate)** 된다.\n",
    "- 문자열 변수를 특정한 양의 정수와 곱하는 경우, 문자열이 그 값만큼 여러 번 더해진다.\n",
    "- 문자열에 대해서도 마찬가지로 인덱싱과 슬라이싱을 이용할 수 있다.\n",
    "    - 다만 문자열은 특정 인덱스의 값을 변경할 수는 없다.(Immutable)"
   ]
  },
  {
   "cell_type": "code",
   "execution_count": 24,
   "metadata": {},
   "outputs": [
    {
     "name": "stdout",
     "output_type": "stream",
     "text": [
      "Hello World\n",
      "StringStringString\n",
      "CD\n"
     ]
    }
   ],
   "source": [
    "a = \"Hello\"\n",
    "b = \"World\"\n",
    "print(a + \" \" + b)\n",
    "# a[2] = \"A\" -- Error. 특정 인덱스만 변경 불가능\n",
    "\n",
    "a = \"String\"\n",
    "print(a * 3)\n",
    "\n",
    "a = \"ABCDEF\"\n",
    "print(a[2:4])"
   ]
  },
  {
   "cell_type": "markdown",
   "metadata": {},
   "source": [
    "## 튜플 자료형\n",
    "- 튜플 자료형은 리스트와 유사하지만 문법적 차이가 있다.\n",
    "    - 튜플은 한 번 선언된 값을 변경할 수 없다.\n",
    "    - 리스트는 대괄호(`[]`)를 이용하지만, 튜플은 소괄호(`()`)를 이용한다.\n",
    "- 튜플은 리스트에 비해 상대적으로 공간 효율적이다.(리스트를 사용할 때보다 더 적은 양의 메모리를 사용한다.)"
   ]
  },
  {
   "cell_type": "code",
   "execution_count": 25,
   "metadata": {},
   "outputs": [
    {
     "name": "stdout",
     "output_type": "stream",
     "text": [
      "4\n",
      "(2, 3, 4)\n"
     ]
    }
   ],
   "source": [
    "a = (1, 2, 3, 4, 5, 6, 7, 8, 9)\n",
    "\n",
    "# 네 번째 원소만 출력\n",
    "print(a[3])\n",
    "\n",
    "# 두 번째 원소부터 네 번째 원소까지\n",
    "print(a[1:4])\n",
    "\n",
    "# a[2] = 7  -- Error. 변경 불가능"
   ]
  },
  {
   "cell_type": "markdown",
   "metadata": {},
   "source": [
    "### 튜플을 사용하면 좋은 경우\n",
    "- **서로 다른 성질** 의 데이터를 묶어서 관리해야 할 때\n",
    "    - 최단 경로 알고리즘에서는(비용, 노드 번호)의 형태로 튜플 자료형을 자주 사용한다.\n",
    "- 데이터의 나열을 **해싱(Hashing)의 키 값** 으로 사용해야 할 때\n",
    "    - 튜플은 변경이 불가능하므로 리스트와 다르게 키 값으로 사용될 수 있다.\n",
    "- 리스트보다 **메모리를 효율적으로 사용** 해야 할 때"
   ]
  },
  {
   "cell_type": "markdown",
   "metadata": {},
   "source": [
    "## 사전 자료형\n",
    "- 사전 자료형은 **키(Key)와 값(Value)의 쌍을 데이터로 가지는 자료형** 이다.\n",
    "    - 앞서 다루었던 리스트나 튜플이 값을 순차적으로 저장하는 것과는 대비된다.\n",
    "- 사전 자료형은 키와 값의 쌍을 데이터로 가지며, 원하는 **'변경 불가능한(Immutable) 자료형'** 을 키로 사용할 수 있다.\n",
    "- 파이썬의 사전 자료형은 해시 테이블(Hash Table)을 이용하므로 <U>데이터의 조회 및 수정에 있어서 `O(1)`의 시간에 처리</U> 할 수 있다."
   ]
  },
  {
   "cell_type": "code",
   "execution_count": 26,
   "metadata": {},
   "outputs": [
    {
     "name": "stdout",
     "output_type": "stream",
     "text": [
      "{'사과': 'Apple', '바나나': 'Banana', '코코넛': 'Coconut'}\n",
      "사과를 키로 가지는 데이터가 존재한다.\n"
     ]
    }
   ],
   "source": [
    "data = dict() # 사전 자료형 초기화\n",
    "data['사과'] = 'Apple'\n",
    "data['바나나'] = 'Banana'\n",
    "data['코코넛'] = 'Coconut'\n",
    "\n",
    "print(data)\n",
    "\n",
    "if '사과' in data:\n",
    "    print('사과를 키로 가지는 데이터가 존재한다.')"
   ]
  }
 ],
 "metadata": {
  "kernelspec": {
   "display_name": "py310",
   "language": "python",
   "name": "python3"
  },
  "language_info": {
   "codemirror_mode": {
    "name": "ipython",
    "version": 3
   },
   "file_extension": ".py",
   "mimetype": "text/x-python",
   "name": "python",
   "nbconvert_exporter": "python",
   "pygments_lexer": "ipython3",
   "version": "3.10.11"
  }
 },
 "nbformat": 4,
 "nbformat_minor": 2
}
